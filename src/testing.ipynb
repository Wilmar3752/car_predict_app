{
 "cells": [
  {
   "cell_type": "code",
   "execution_count": 1,
   "metadata": {},
   "outputs": [],
   "source": [
    "from _settings import DATABASE_CONFIG"
   ]
  },
  {
   "cell_type": "code",
   "execution_count": 2,
   "metadata": {},
   "outputs": [
    {
     "data": {
      "text/plain": [
       "{'dbname': 'car_predict',\n",
       " 'user': 'wilmar',\n",
       " 'password': 'OlltkvXvP7XzeZCyRUlW7QmxRxZAP0f0',\n",
       " 'host': 'dpg-cp6k7ji0si5c73afsuog-a.ohio-postgres.render.com'}"
      ]
     },
     "execution_count": 2,
     "metadata": {},
     "output_type": "execute_result"
    }
   ],
   "source": [
    "DATABASE_CONFIG"
   ]
  },
  {
   "cell_type": "code",
   "execution_count": 3,
   "metadata": {},
   "outputs": [],
   "source": [
    "from db_manager import connect_to_database"
   ]
  },
  {
   "cell_type": "code",
   "execution_count": 4,
   "metadata": {},
   "outputs": [
    {
     "data": {
      "text/plain": [
       "<connection object at 0x10c9846d0; dsn: 'user=wilmar password=xxx dbname=car_predict host=dpg-cp6k7ji0si5c73afsuog-a.ohio-postgres.render.com', closed: 0>"
      ]
     },
     "execution_count": 4,
     "metadata": {},
     "output_type": "execute_result"
    }
   ],
   "source": [
    "connect_to_database()"
   ]
  },
  {
   "cell_type": "code",
   "execution_count": 1,
   "metadata": {},
   "outputs": [],
   "source": [
    "import requests"
   ]
  },
  {
   "cell_type": "code",
   "execution_count": 6,
   "metadata": {},
   "outputs": [
    {
     "data": {
      "text/plain": [
       "{'ip': '179.14.225.101',\n",
       " 'hostname': 'dinamic-tigo-179-14-225-101.tigo.com.co',\n",
       " 'city': 'Manizales',\n",
       " 'region': 'Caldas Department',\n",
       " 'country': 'CO',\n",
       " 'loc': '5.0689,-75.5174',\n",
       " 'org': 'AS27831 Colombia Móvil',\n",
       " 'postal': '170001',\n",
       " 'timezone': 'America/Bogota'}"
      ]
     },
     "execution_count": 6,
     "metadata": {},
     "output_type": "execute_result"
    }
   ],
   "source": [
    "requests.get(\"https://ipinfo.io/179.14.225.101?token=600887e9b1bfc3\").json()"
   ]
  },
  {
   "cell_type": "code",
   "execution_count": null,
   "metadata": {},
   "outputs": [],
   "source": []
  }
 ],
 "metadata": {
  "kernelspec": {
   "display_name": "car_predict_app",
   "language": "python",
   "name": "python3"
  },
  "language_info": {
   "codemirror_mode": {
    "name": "ipython",
    "version": 3
   },
   "file_extension": ".py",
   "mimetype": "text/x-python",
   "name": "python",
   "nbconvert_exporter": "python",
   "pygments_lexer": "ipython3",
   "version": "3.10.14"
  }
 },
 "nbformat": 4,
 "nbformat_minor": 2
}
